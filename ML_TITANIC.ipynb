{
 "cells": [
  {
   "cell_type": "code",
   "execution_count": 1,
   "id": "566c958a-7b9d-45d3-a0a1-35f205a208cd",
   "metadata": {},
   "outputs": [
    {
     "name": "stdout",
     "output_type": "stream",
     "text": [
      "Bibliotecas importadas com sucesso!\n"
     ]
    }
   ],
   "source": [
    "# importar bibliotecas\n",
    "\n",
    "# Pandas para manipulação de dados\n",
    "import pandas as pd\n",
    "\n",
    "# Numpy para cálculos numéricos\n",
    "import numpy as np\n",
    "\n",
    "# Matplotlib e seaborn para visualização de dados\n",
    "import matplotlib.pyplot as plt\n",
    "import seaborn as sns\n",
    "\n",
    "# Configurações dos gráficos\n",
    "sns.set(style=\"whitegrid\")\n",
    "plt.style.use(\"fivethirtyeight\")\n",
    "\n",
    "print(\"Bibliotecas importadas com sucesso!\")"
   ]
  },
  {
   "cell_type": "code",
   "execution_count": 3,
   "id": "a579899f-c808-49fd-ab60-1558285e89af",
   "metadata": {},
   "outputs": [
    {
     "name": "stdout",
     "output_type": "stream",
     "text": [
      "Dados de Treino:\n"
     ]
    },
    {
     "data": {
      "text/html": [
       "<div>\n",
       "<style scoped>\n",
       "    .dataframe tbody tr th:only-of-type {\n",
       "        vertical-align: middle;\n",
       "    }\n",
       "\n",
       "    .dataframe tbody tr th {\n",
       "        vertical-align: top;\n",
       "    }\n",
       "\n",
       "    .dataframe thead th {\n",
       "        text-align: right;\n",
       "    }\n",
       "</style>\n",
       "<table border=\"1\" class=\"dataframe\">\n",
       "  <thead>\n",
       "    <tr style=\"text-align: right;\">\n",
       "      <th></th>\n",
       "      <th>PassengerId</th>\n",
       "      <th>Survived</th>\n",
       "      <th>Pclass</th>\n",
       "      <th>Name</th>\n",
       "      <th>Sex</th>\n",
       "      <th>Age</th>\n",
       "      <th>SibSp</th>\n",
       "      <th>Parch</th>\n",
       "      <th>Ticket</th>\n",
       "      <th>Fare</th>\n",
       "      <th>Cabin</th>\n",
       "      <th>Embarked</th>\n",
       "    </tr>\n",
       "  </thead>\n",
       "  <tbody>\n",
       "    <tr>\n",
       "      <th>0</th>\n",
       "      <td>1</td>\n",
       "      <td>0</td>\n",
       "      <td>3</td>\n",
       "      <td>Braund, Mr. Owen Harris</td>\n",
       "      <td>male</td>\n",
       "      <td>22.0</td>\n",
       "      <td>1</td>\n",
       "      <td>0</td>\n",
       "      <td>A/5 21171</td>\n",
       "      <td>7.2500</td>\n",
       "      <td>NaN</td>\n",
       "      <td>S</td>\n",
       "    </tr>\n",
       "    <tr>\n",
       "      <th>1</th>\n",
       "      <td>2</td>\n",
       "      <td>1</td>\n",
       "      <td>1</td>\n",
       "      <td>Cumings, Mrs. John Bradley (Florence Briggs Th...</td>\n",
       "      <td>female</td>\n",
       "      <td>38.0</td>\n",
       "      <td>1</td>\n",
       "      <td>0</td>\n",
       "      <td>PC 17599</td>\n",
       "      <td>71.2833</td>\n",
       "      <td>C85</td>\n",
       "      <td>C</td>\n",
       "    </tr>\n",
       "    <tr>\n",
       "      <th>2</th>\n",
       "      <td>3</td>\n",
       "      <td>1</td>\n",
       "      <td>3</td>\n",
       "      <td>Heikkinen, Miss. Laina</td>\n",
       "      <td>female</td>\n",
       "      <td>26.0</td>\n",
       "      <td>0</td>\n",
       "      <td>0</td>\n",
       "      <td>STON/O2. 3101282</td>\n",
       "      <td>7.9250</td>\n",
       "      <td>NaN</td>\n",
       "      <td>S</td>\n",
       "    </tr>\n",
       "    <tr>\n",
       "      <th>3</th>\n",
       "      <td>4</td>\n",
       "      <td>1</td>\n",
       "      <td>1</td>\n",
       "      <td>Futrelle, Mrs. Jacques Heath (Lily May Peel)</td>\n",
       "      <td>female</td>\n",
       "      <td>35.0</td>\n",
       "      <td>1</td>\n",
       "      <td>0</td>\n",
       "      <td>113803</td>\n",
       "      <td>53.1000</td>\n",
       "      <td>C123</td>\n",
       "      <td>S</td>\n",
       "    </tr>\n",
       "    <tr>\n",
       "      <th>4</th>\n",
       "      <td>5</td>\n",
       "      <td>0</td>\n",
       "      <td>3</td>\n",
       "      <td>Allen, Mr. William Henry</td>\n",
       "      <td>male</td>\n",
       "      <td>35.0</td>\n",
       "      <td>0</td>\n",
       "      <td>0</td>\n",
       "      <td>373450</td>\n",
       "      <td>8.0500</td>\n",
       "      <td>NaN</td>\n",
       "      <td>S</td>\n",
       "    </tr>\n",
       "  </tbody>\n",
       "</table>\n",
       "</div>"
      ],
      "text/plain": [
       "   PassengerId  Survived  Pclass  \\\n",
       "0            1         0       3   \n",
       "1            2         1       1   \n",
       "2            3         1       3   \n",
       "3            4         1       1   \n",
       "4            5         0       3   \n",
       "\n",
       "                                                Name     Sex   Age  SibSp  \\\n",
       "0                            Braund, Mr. Owen Harris    male  22.0      1   \n",
       "1  Cumings, Mrs. John Bradley (Florence Briggs Th...  female  38.0      1   \n",
       "2                             Heikkinen, Miss. Laina  female  26.0      0   \n",
       "3       Futrelle, Mrs. Jacques Heath (Lily May Peel)  female  35.0      1   \n",
       "4                           Allen, Mr. William Henry    male  35.0      0   \n",
       "\n",
       "   Parch            Ticket     Fare Cabin Embarked  \n",
       "0      0         A/5 21171   7.2500   NaN        S  \n",
       "1      0          PC 17599  71.2833   C85        C  \n",
       "2      0  STON/O2. 3101282   7.9250   NaN        S  \n",
       "3      0            113803  53.1000  C123        S  \n",
       "4      0            373450   8.0500   NaN        S  "
      ]
     },
     "metadata": {},
     "output_type": "display_data"
    },
    {
     "name": "stdout",
     "output_type": "stream",
     "text": [
      "\n",
      "Dados de Teste:\n"
     ]
    },
    {
     "data": {
      "text/html": [
       "<div>\n",
       "<style scoped>\n",
       "    .dataframe tbody tr th:only-of-type {\n",
       "        vertical-align: middle;\n",
       "    }\n",
       "\n",
       "    .dataframe tbody tr th {\n",
       "        vertical-align: top;\n",
       "    }\n",
       "\n",
       "    .dataframe thead th {\n",
       "        text-align: right;\n",
       "    }\n",
       "</style>\n",
       "<table border=\"1\" class=\"dataframe\">\n",
       "  <thead>\n",
       "    <tr style=\"text-align: right;\">\n",
       "      <th></th>\n",
       "      <th>PassengerId</th>\n",
       "      <th>Pclass</th>\n",
       "      <th>Name</th>\n",
       "      <th>Sex</th>\n",
       "      <th>Age</th>\n",
       "      <th>SibSp</th>\n",
       "      <th>Parch</th>\n",
       "      <th>Ticket</th>\n",
       "      <th>Fare</th>\n",
       "      <th>Cabin</th>\n",
       "      <th>Embarked</th>\n",
       "    </tr>\n",
       "  </thead>\n",
       "  <tbody>\n",
       "    <tr>\n",
       "      <th>0</th>\n",
       "      <td>892</td>\n",
       "      <td>3</td>\n",
       "      <td>Kelly, Mr. James</td>\n",
       "      <td>male</td>\n",
       "      <td>34.5</td>\n",
       "      <td>0</td>\n",
       "      <td>0</td>\n",
       "      <td>330911</td>\n",
       "      <td>7.8292</td>\n",
       "      <td>NaN</td>\n",
       "      <td>Q</td>\n",
       "    </tr>\n",
       "    <tr>\n",
       "      <th>1</th>\n",
       "      <td>893</td>\n",
       "      <td>3</td>\n",
       "      <td>Wilkes, Mrs. James (Ellen Needs)</td>\n",
       "      <td>female</td>\n",
       "      <td>47.0</td>\n",
       "      <td>1</td>\n",
       "      <td>0</td>\n",
       "      <td>363272</td>\n",
       "      <td>7.0000</td>\n",
       "      <td>NaN</td>\n",
       "      <td>S</td>\n",
       "    </tr>\n",
       "    <tr>\n",
       "      <th>2</th>\n",
       "      <td>894</td>\n",
       "      <td>2</td>\n",
       "      <td>Myles, Mr. Thomas Francis</td>\n",
       "      <td>male</td>\n",
       "      <td>62.0</td>\n",
       "      <td>0</td>\n",
       "      <td>0</td>\n",
       "      <td>240276</td>\n",
       "      <td>9.6875</td>\n",
       "      <td>NaN</td>\n",
       "      <td>Q</td>\n",
       "    </tr>\n",
       "    <tr>\n",
       "      <th>3</th>\n",
       "      <td>895</td>\n",
       "      <td>3</td>\n",
       "      <td>Wirz, Mr. Albert</td>\n",
       "      <td>male</td>\n",
       "      <td>27.0</td>\n",
       "      <td>0</td>\n",
       "      <td>0</td>\n",
       "      <td>315154</td>\n",
       "      <td>8.6625</td>\n",
       "      <td>NaN</td>\n",
       "      <td>S</td>\n",
       "    </tr>\n",
       "    <tr>\n",
       "      <th>4</th>\n",
       "      <td>896</td>\n",
       "      <td>3</td>\n",
       "      <td>Hirvonen, Mrs. Alexander (Helga E Lindqvist)</td>\n",
       "      <td>female</td>\n",
       "      <td>22.0</td>\n",
       "      <td>1</td>\n",
       "      <td>1</td>\n",
       "      <td>3101298</td>\n",
       "      <td>12.2875</td>\n",
       "      <td>NaN</td>\n",
       "      <td>S</td>\n",
       "    </tr>\n",
       "  </tbody>\n",
       "</table>\n",
       "</div>"
      ],
      "text/plain": [
       "   PassengerId  Pclass                                          Name     Sex  \\\n",
       "0          892       3                              Kelly, Mr. James    male   \n",
       "1          893       3              Wilkes, Mrs. James (Ellen Needs)  female   \n",
       "2          894       2                     Myles, Mr. Thomas Francis    male   \n",
       "3          895       3                              Wirz, Mr. Albert    male   \n",
       "4          896       3  Hirvonen, Mrs. Alexander (Helga E Lindqvist)  female   \n",
       "\n",
       "    Age  SibSp  Parch   Ticket     Fare Cabin Embarked  \n",
       "0  34.5      0      0   330911   7.8292   NaN        Q  \n",
       "1  47.0      1      0   363272   7.0000   NaN        S  \n",
       "2  62.0      0      0   240276   9.6875   NaN        Q  \n",
       "3  27.0      0      0   315154   8.6625   NaN        S  \n",
       "4  22.0      1      1  3101298  12.2875   NaN        S  "
      ]
     },
     "metadata": {},
     "output_type": "display_data"
    }
   ],
   "source": [
    "# Carregando os dados de treino e teste\n",
    "train_data = pd.read_csv(\"train.csv\")\n",
    "test_data = pd.read_csv(\"test.csv\")\n",
    "\n",
    "# Verificando os 5 primeiros registros do conjunto de treino\n",
    "print(\"Dados de Treino:\")\n",
    "display(train_data.head())\n",
    "\n",
    "# Verificando os 5 primeiros registros do conjunto de teste\n",
    "print(\"\\nDados de Teste:\")\n",
    "display(test_data.head())"
   ]
  },
  {
   "cell_type": "markdown",
   "id": "e2ea9c3d-cb48-4cc9-aeb5-5da09972af70",
   "metadata": {},
   "source": [
    "### Verificar informações gerais sobre os dados"
   ]
  },
  {
   "cell_type": "code",
   "execution_count": 5,
   "id": "f6202e6d-9d22-4bb2-8039-c5e3a87f8899",
   "metadata": {},
   "outputs": [
    {
     "name": "stdout",
     "output_type": "stream",
     "text": [
      "Tamanho dos dados de treino: (891, 12)\n",
      "Tamanho dos dados de teste: (418, 11)\n",
      "\n",
      "Informações do dataset de treino\n",
      "<class 'pandas.core.frame.DataFrame'>\n",
      "RangeIndex: 891 entries, 0 to 890\n",
      "Data columns (total 12 columns):\n",
      " #   Column       Non-Null Count  Dtype  \n",
      "---  ------       --------------  -----  \n",
      " 0   PassengerId  891 non-null    int64  \n",
      " 1   Survived     891 non-null    int64  \n",
      " 2   Pclass       891 non-null    int64  \n",
      " 3   Name         891 non-null    object \n",
      " 4   Sex          891 non-null    object \n",
      " 5   Age          714 non-null    float64\n",
      " 6   SibSp        891 non-null    int64  \n",
      " 7   Parch        891 non-null    int64  \n",
      " 8   Ticket       891 non-null    object \n",
      " 9   Fare         891 non-null    float64\n",
      " 10  Cabin        204 non-null    object \n",
      " 11  Embarked     889 non-null    object \n",
      "dtypes: float64(2), int64(5), object(5)\n",
      "memory usage: 83.7+ KB\n"
     ]
    }
   ],
   "source": [
    "# Tamanho dos datasets\n",
    "print(f\"Tamanho dos dados de treino: {train_data.shape}\")\n",
    "print(f\"Tamanho dos dados de teste: {test_data.shape}\")\n",
    "\n",
    "# Informações gerais sobre os dados\n",
    "print(\"\\nInformações do dataset de treino\")\n",
    "train_data.info()"
   ]
  },
  {
   "cell_type": "markdown",
   "id": "c9282939-3da1-4ee8-94bf-2a7607138d65",
   "metadata": {},
   "source": [
    "### Explorar os dados\n",
    "Verificar valores ausentes: Vamos identificar colunas com valores ausentes, pois isso pode impactar nosso modelo."
   ]
  },
  {
   "cell_type": "code",
   "execution_count": 9,
   "id": "994158ae-0419-417d-a235-ee2078d8892e",
   "metadata": {},
   "outputs": [
    {
     "name": "stdout",
     "output_type": "stream",
     "text": [
      "Valores ausentes no dataset de treino:\n",
      "PassengerId      0\n",
      "Survived         0\n",
      "Pclass           0\n",
      "Name             0\n",
      "Sex              0\n",
      "Age            177\n",
      "SibSp            0\n",
      "Parch            0\n",
      "Ticket           0\n",
      "Fare             0\n",
      "Cabin          687\n",
      "Embarked         2\n",
      "dtype: int64\n",
      "\n",
      "Valores ausentes no dataset de teste:\n",
      "PassengerId      0\n",
      "Pclass           0\n",
      "Name             0\n",
      "Sex              0\n",
      "Age             86\n",
      "SibSp            0\n",
      "Parch            0\n",
      "Ticket           0\n",
      "Fare             1\n",
      "Cabin          327\n",
      "Embarked         0\n",
      "dtype: int64\n"
     ]
    }
   ],
   "source": [
    "# Verificar valores ausentes no dataset de treino\n",
    "print(\"Valores ausentes no dataset de treino:\")\n",
    "print(train_data.isnull().sum())\n",
    "\n",
    "# Verificar valores ausentes no dataset de teste\n",
    "print(\"\\nValores ausentes no dataset de teste:\")\n",
    "print(test_data.isnull().sum())"
   ]
  },
  {
   "cell_type": "markdown",
   "id": "d9f8f0c2-e0f0-4648-a7dc-d161b011d423",
   "metadata": {},
   "source": [
    "### Analisar a coluna-alvo (Survived): A coluna Survived é o que queremos prever (1 = Sobreviveu, 0 = Não sobreviveu). Vamos analisar como os dados estão distribuídos."
   ]
  },
  {
   "cell_type": "code",
   "execution_count": 11,
   "id": "6611f621-4353-4ed2-8dda-7b7a152aebf5",
   "metadata": {},
   "outputs": [
    {
     "name": "stdout",
     "output_type": "stream",
     "text": [
      "\n",
      "Distribuição da coluna 'Survived':\n",
      "Survived\n",
      "0    549\n",
      "1    342\n",
      "Name: count, dtype: int64\n"
     ]
    },
    {
     "data": {
      "image/png": "[encoded data removed]",
      "text/plain": [
       "<Figure size 640x480 with 1 Axes>"
      ]
     },
     "metadata": {},
     "output_type": "display_data"
    }
   ],
   "source": [
    "# Distribuição da coluna 'Survived'\n",
    "print(\"\\nDistribuição da coluna 'Survived':\")\n",
    "print(train_data['Survived'].value_counts())\n",
    "\n",
    "# Visualizar a distribuição com um gráfico\n",
    "sns.countplot(x='Survived', data=train_data)\n",
    "plt.title(\"Distribuição de Sobreviventes\")\n",
    "plt.show()"
   ]
  },
  {
   "cell_type": "markdown",
   "id": "4c59a19c-250d-46e6-b85f-54e36e6ccefd",
   "metadata": {},
   "source": [
    "### Analisar outras colunas importantes: Vamos explorar algumas colunas como Sex, Age, e Pclass (classe dos passageiros), que podem ter impacto na sobrevivência."
   ]
  },
  {
   "cell_type": "code",
   "execution_count": 13,
   "id": "9ccbe2ad-45b6-4827-a67b-9624f5e2036c",
   "metadata": {},
   "outputs": [
    {
     "name": "stdout",
     "output_type": "stream",
     "text": [
      "\n",
      "Distribuição por sexo:\n",
      "Sex\n",
      "male      577\n",
      "female    314\n",
      "Name: count, dtype: int64\n"
     ]
    },
    {
     "data": {
      "image/png": "[encoded data removed]",
      "text/plain": [
       "<Figure size 640x480 with 1 Axes>"
      ]
     },
     "metadata": {},
     "output_type": "display_data"
    },
    {
     "name": "stdout",
     "output_type": "stream",
     "text": [
      "\n",
      "Distribuição por classe:\n",
      "Pclass\n",
      "3    491\n",
      "1    216\n",
      "2    184\n",
      "Name: count, dtype: int64\n"
     ]
    },
    {
     "data": {
      "image/png": "[encoded data removed]",
      "text/plain": [
       "<Figure size 640x480 with 1 Axes>"
      ]
     },
     "metadata": {},
     "output_type": "display_data"
    }
   ],
   "source": [
    "# Analisando a coluna 'Sex'\n",
    "print(\"\\nDistribuição por sexo:\")\n",
    "print(train_data['Sex'].value_counts())\n",
    "\n",
    "# Visualizar sobrevivência por sexo\n",
    "sns.countplot(x='Survived', hue='Sex', data=train_data)\n",
    "plt.title(\"Sobrevivência por Sexo\")\n",
    "plt.show()\n",
    "\n",
    "# Analisando a coluna 'Pclass'\n",
    "print(\"\\nDistribuição por classe:\")\n",
    "print(train_data['Pclass'].value_counts())\n",
    "\n",
    "# Visualizar sobrevivência por classe\n",
    "sns.countplot(x='Survived', hue='Pclass', data=train_data)\n",
    "plt.title(\"Sobrevivência por Classe\")\n",
    "plt.show()"
   ]
  },
  {
   "cell_type": "markdown",
   "id": "842e37bf-46be-4b76-8b45-11bb81b21a6e",
   "metadata": {},
   "source": [
    "###  Preparar os dados para o modelo\n",
    "Agora que entendemos melhor os dados, precisamos tratá-los antes de treinar nosso modelo. Isso inclui:\n",
    "\n",
    "Tratar valores ausentes: Algumas colunas podem ter valores ausentes (NaN). Vamos preencher ou descartar essas colunas, dependendo de sua importância."
   ]
  },
  {
   "cell_type": "code",
   "execution_count": 15,
   "id": "9f94991c-7ab7-46c4-823e-74c884bfc660",
   "metadata": {},
   "outputs": [
    {
     "name": "stdout",
     "output_type": "stream",
     "text": [
      "Valores ausentes no conjunto treino:\n",
      "PassengerId      0\n",
      "Survived         0\n",
      "Pclass           0\n",
      "Name             0\n",
      "Sex              0\n",
      "Age            177\n",
      "SibSp            0\n",
      "Parch            0\n",
      "Ticket           0\n",
      "Fare             0\n",
      "Cabin          687\n",
      "Embarked         2\n",
      "dtype: int64\n"
     ]
    }
   ],
   "source": [
    "# Verificar colunas com valores ausentes novamente\n",
    "print(\"Valores ausentes no conjunto treino:\")\n",
    "print(train_data.isnull().sum())\n",
    "\n",
    "# Exemplo: Preencher valores ausentes na coluna 'Age' com a mediana\n",
    "train_data['Age'] = train_data['Age'].fillna(train_data['Age'].median())\n",
    "test_data['Age'] = test_data['Age'].fillna(test_data['Age'].median())\n",
    "\n",
    "# Preencher valores ausentes na coluna 'Embarked' com o valor mais frequente\n",
    "train_data['Embarked'] = train_data['Embarked'].fillna(train_data['Embarked'].mode()[0])\n",
    "test_data['Embarked'] = test_data['Embarked'].fillna(test_data['Embarked'].mode()[0])\n",
    "\n",
    "# Se necessário, preencher valores ausentes na coluna 'Fare'\n",
    "test_data['Fare'] = test_data['Fare'].fillna(test_data['Fare'].median())"
   ]
  },
  {
   "cell_type": "code",
   "execution_count": 17,
   "id": "7d207aef-b8ca-442d-9ff4-9fc66003d2c2",
   "metadata": {},
   "outputs": [
    {
     "name": "stdout",
     "output_type": "stream",
     "text": [
      "Colunas restantes no train_data: Index(['PassengerId', 'Survived', 'Pclass', 'Name', 'Sex', 'Age', 'SibSp',\n",
      "       'Parch', 'Ticket', 'Fare', 'Embarked'],\n",
      "      dtype='object')\n",
      "Colunas restantes no test_data: Index(['PassengerId', 'Pclass', 'Name', 'Sex', 'Age', 'SibSp', 'Parch',\n",
      "       'Ticket', 'Fare', 'Embarked'],\n",
      "      dtype='object')\n"
     ]
    }
   ],
   "source": [
    "# Remover a coluna 'Cabin' dos datasets\n",
    "train_data.drop('Cabin', axis=1, inplace=True)\n",
    "test_data.drop('Cabin', axis=1, inplace=True)\n",
    "\n",
    "# Verificar as colunas restantes\n",
    "print(\"Colunas restantes no train_data:\", train_data.columns)\n",
    "print(\"Colunas restantes no test_data:\", test_data.columns)"
   ]
  },
  {
   "cell_type": "markdown",
   "id": "d813be4a-bcde-4bc1-8c5d-baf6bbddc02d",
   "metadata": {},
   "source": [
    "### Transformar colunas categóricas: Algumas colunas, como Sex e Embarked, são categóricas (texto) e precisam ser transformadas em números para que o modelo possa entendê-las.\n",
    "Agora, precisamos lidar com as colunas que contêm valores categóricos, como Sex e Embarked, já que os modelos de Machine Learning geralmente trabalham melhor com números. Vamos convertê-las em variáveis numéricas:\n",
    "\n",
    "Coluna Sex:\n",
    "Converteremos male para 0 e female para 1.\n",
    "\n",
    "Coluna Embarked:\n",
    "Converteremos os valores C, Q, e S em números (por exemplo, C=0, Q=1, S=2)."
   ]
  },
  {
   "cell_type": "code",
   "execution_count": 19,
   "id": "7d6fb39e-75f6-4a8e-97b5-3d7e2482399d",
   "metadata": {},
   "outputs": [],
   "source": [
    "# Converter 'Sex' para numérico: 0 = male, 1 = female\n",
    "train_data['Sex'] = train_data['Sex'].map({'male': 0, 'female': 1})\n",
    "test_data['Sex'] = test_data['Sex'].map({'male': 0, 'female': 1})\n",
    "\n",
    "# Converter 'Embarked' em valores numéricos - C=0, Q=1, S=2\n",
    "train_data['Embarked'] = train_data['Embarked'].map({'C': 0, 'Q': 1, 'S': 2})\n",
    "test_data['Embarked'] = test_data['Embarked'].map({'C': 0, 'Q': 1, 'S': 2})"
   ]
  },
  {
   "cell_type": "code",
   "execution_count": 21,
   "id": "41c881fd-dcc1-427c-95fd-ea91d0d86fee",
   "metadata": {},
   "outputs": [
    {
     "name": "stdout",
     "output_type": "stream",
     "text": [
      "   Sex  Embarked\n",
      "0    0         2\n",
      "1    1         0\n",
      "2    1         2\n",
      "3    1         2\n",
      "4    0         2\n",
      "\n",
      "Valores ausentes em train_data: PassengerId    0\n",
      "Survived       0\n",
      "Pclass         0\n",
      "Name           0\n",
      "Sex            0\n",
      "Age            0\n",
      "SibSp          0\n",
      "Parch          0\n",
      "Ticket         0\n",
      "Fare           0\n",
      "Embarked       0\n",
      "dtype: int64\n",
      "\n",
      "Valores ausentes em test_data: PassengerId    0\n",
      "Pclass         0\n",
      "Name           0\n",
      "Sex            0\n",
      "Age            0\n",
      "SibSp          0\n",
      "Parch          0\n",
      "Ticket         0\n",
      "Fare           0\n",
      "Embarked       0\n",
      "dtype: int64\n"
     ]
    }
   ],
   "source": [
    "# Verificar as primeiras linhas do conjunto de treino\n",
    "print(train_data[['Sex', 'Embarked']].head())\n",
    "\n",
    "# Verificar se há valores ausentes após a transformação\n",
    "print(\"\\nValores ausentes em train_data:\", train_data.isnull().sum())\n",
    "print(\"\\nValores ausentes em test_data:\", test_data.isnull().sum())"
   ]
  },
  {
   "cell_type": "markdown",
   "id": "72a7f9f9-1640-4744-bd96-55a2a45538cd",
   "metadata": {},
   "source": [
    "### Próximo Passo: Criar Variáveis Derivadas (Feature Engineering)\n",
    "Agora, vamos criar algumas variáveis derivadas que podem ajudar o modelo a entender melhor os dados. Essas variáveis são baseadas nas informações existentes, mas adicionam novas perspectivas. Aqui estão algumas ideias:\n",
    "\n"
   ]
  },
  {
   "cell_type": "code",
   "execution_count": 26,
   "id": "6c580773-eb91-4e67-aae8-9f3784c004af",
   "metadata": {},
   "outputs": [
    {
     "name": "stdout",
     "output_type": "stream",
     "text": [
      "   FamilySize  IsAlone\n",
      "0           2        0\n",
      "1           2        0\n",
      "2           1        1\n",
      "3           2        0\n",
      "4           1        1\n"
     ]
    }
   ],
   "source": [
    "# Criar a variável FamilySize\n",
    "train_data['FamilySize'] = train_data['SibSp'] + train_data['Parch'] + 1\n",
    "test_data['FamilySize'] = test_data['SibSp'] + test_data['Parch'] + 1\n",
    "\n",
    "# Criar a variável IsAlone\n",
    "train_data['IsAlone'] = 1 #Inicialmente considera que todos estão sozinhos\n",
    "train_data.loc[train_data['FamilySize'] > 1, 'IsAlone'] = 0 #Define como \"não sozinho\"\n",
    "\n",
    "test_data['IsAlone'] = 1\n",
    "test_data.loc[test_data['FamilySize'] > 1, 'IsAlone'] = 0\n",
    "\n",
    "#Visualizar as novas colunas criadas\n",
    "print(train_data[['FamilySize', 'IsAlone']].head())"
   ]
  },
  {
   "cell_type": "code",
   "execution_count": 28,
   "id": "0c5598b3-30a1-403e-aeb8-e21a16de6288",
   "metadata": {},
   "outputs": [
    {
     "name": "stdout",
     "output_type": "stream",
     "text": [
      "Valores ausentes em train_data: PassengerId    0\n",
      "Survived       0\n",
      "Pclass         0\n",
      "Name           0\n",
      "Sex            0\n",
      "Age            0\n",
      "SibSp          0\n",
      "Parch          0\n",
      "Ticket         0\n",
      "Fare           0\n",
      "Embarked       0\n",
      "FamilySize     0\n",
      "IsAlone        0\n",
      "dtype: int64\n",
      "Valores ausentes em test_data: PassengerId    0\n",
      "Pclass         0\n",
      "Name           0\n",
      "Sex            0\n",
      "Age            0\n",
      "SibSp          0\n",
      "Parch          0\n",
      "Ticket         0\n",
      "Fare           0\n",
      "Embarked       0\n",
      "FamilySize     0\n",
      "IsAlone        0\n",
      "dtype: int64\n"
     ]
    }
   ],
   "source": [
    "# Conferir os valores ausentes após as transformações\n",
    "print(\"Valores ausentes em train_data:\", train_data.isnull().sum())\n",
    "print(\"Valores ausentes em test_data:\", test_data.isnull().sum())"
   ]
  },
  {
   "cell_type": "markdown",
   "id": "17416690-4da9-4302-846f-2050f263cb42",
   "metadata": {},
   "source": [
    "### Preparar os Dados para o Modelo\n",
    "Agora vamos preparar os dados para serem usados no treinamento do modelo de Machine Learning. Isso inclui:\n",
    "\n",
    "Selecionar as colunas que serão usadas como features (variáveis preditoras):\n",
    "\n",
    "Excluir colunas que não são úteis ou que podem atrapalhar, como Name, Ticket, PassengerId, etc.\n",
    "Vamos usar colunas como Pclass, Sex, Age, Fare, Embarked, FamilySize, e IsAlone.\n",
    "\n",
    "Separar os dados em variáveis preditoras (X) e variável alvo (y):\n",
    "\n",
    "### A variável alvo é Survived, que indica se o passageiro sobreviveu ou não.\n",
    "Preparar os dados de treino e teste:\n",
    "\n",
    "O conjunto de treino será usado para treinar o modelo.\n",
    "O conjunto de teste será usado para fazer previsões e avaliar o desempenho."
   ]
  },
  {
   "cell_type": "code",
   "execution_count": 35,
   "id": "bce39ae6-f53c-4c4a-a404-c3f35fbd0d5b",
   "metadata": {},
   "outputs": [
    {
     "name": "stdout",
     "output_type": "stream",
     "text": [
      "Dados de treino (x_train):\n",
      "   Pclass  Sex   Age     Fare  Embarked  FamilySize  IsAlone\n",
      "0       3    0  22.0   7.2500         2           2        0\n",
      "1       1    1  38.0  71.2833         0           2        0\n",
      "2       3    1  26.0   7.9250         2           1        1\n",
      "3       1    1  35.0  53.1000         2           2        0\n",
      "4       3    0  35.0   8.0500         2           1        1\n",
      "\n",
      "Variável alvo (y_train):\n",
      "0    0\n",
      "1    1\n",
      "2    1\n",
      "3    1\n",
      "4    0\n",
      "Name: Survived, dtype: int64\n",
      "\n",
      "Dados de teste (x_test):\n",
      "   Pclass  Sex   Age     Fare  Embarked  FamilySize  IsAlone\n",
      "0       3    0  34.5   7.8292         1           1        1\n",
      "1       3    1  47.0   7.0000         2           2        0\n",
      "2       2    0  62.0   9.6875         1           1        1\n",
      "3       3    0  27.0   8.6625         2           1        1\n",
      "4       3    1  22.0  12.2875         2           3        0\n"
     ]
    }
   ],
   "source": [
    "# Selecionar as colunas para o modelo\n",
    "features = ['Pclass', 'Sex', 'Age', 'Fare', 'Embarked', 'FamilySize', 'IsAlone']\n",
    "\n",
    "# Dados de treino\n",
    "x_train = train_data[features]\n",
    "y_train = train_data['Survived']\n",
    "\n",
    "# Dados de teste\n",
    "x_test = test_data[features]\n",
    "\n",
    "# Conferir as primeiras linhas para verificar\n",
    "print(\"Dados de treino (x_train):\")\n",
    "print(x_train.head())\n",
    "\n",
    "print(\"\\nVariável alvo (y_train):\")\n",
    "print(y_train.head())\n",
    "\n",
    "print(\"\\nDados de teste (x_test):\")\n",
    "print(x_test.head())"
   ]
  },
  {
   "cell_type": "markdown",
   "id": "68ab1faf-46da-41bf-ac01-84fc7ee06e2c",
   "metadata": {},
   "source": [
    "### Treinar um Modelo de Machine Learning\n",
    "Agora que os dados estão prontos, vamos treinar um modelo. \n",
    "Para começar, usaremos um modelo simples e poderoso: ### Árvore de Decisão. \n",
    "É fácil de entender e funciona bem para problemas iniciais como este."
   ]
  },
  {
   "cell_type": "code",
   "execution_count": 42,
   "id": "ba452287-4759-429b-b42b-8469d2efa504",
   "metadata": {},
   "outputs": [
    {
     "name": "stdout",
     "output_type": "stream",
     "text": [
      "Previsões para os primeiros 10 passageiros do conjunto de teste:\n",
      "[0 0 1 1 1 0 0 0 1 0]\n"
     ]
    }
   ],
   "source": [
    "# Importar o modelo de árvore de decisão\n",
    "from sklearn.tree import DecisionTreeClassifier\n",
    "\n",
    "# Criar o modelo\n",
    "model = DecisionTreeClassifier(random_state=42) # random_state para reprodutibilidade\n",
    "\n",
    "# Treinar o modelo com os dados de treino\n",
    "model.fit(x_train, y_train)\n",
    "\n",
    "# Fazer previsões no conjunto de teste\n",
    "predictions = model.predict(x_test)\n",
    "\n",
    "# Visualizar algumas previsões\n",
    "print(\"Previsões para os primeiros 10 passageiros do conjunto de teste:\")\n",
    "print(predictions[:10])"
   ]
  },
  {
   "cell_type": "markdown",
   "id": "aad98bea-26e3-4c53-981c-ee83a10d84aa",
   "metadata": {},
   "source": [
    "### Salvar o Arquivo\n",
    "Depois de criar o DataFrame, salvamos a tabela como um arquivo CSV"
   ]
  },
  {
   "cell_type": "code",
   "execution_count": 48,
   "id": "e3b672d1-7f2a-4b2d-a4ab-a2ffac02d695",
   "metadata": {},
   "outputs": [],
   "source": [
    "output = pd.DataFrame({'PassengerId': test_data['PassengerId'], 'Survived': predictions})"
   ]
  },
  {
   "cell_type": "code",
   "execution_count": 50,
   "id": "fbd953e8-0a7a-4081-b1e3-1b372fc0603e",
   "metadata": {},
   "outputs": [],
   "source": [
    "output.to_csv('submission.csv', index=False)"
   ]
  },
  {
   "cell_type": "code",
   "execution_count": 54,
   "id": "49363c28-223a-40c4-a963-69b710f876f2",
   "metadata": {},
   "outputs": [
    {
     "name": "stdout",
     "output_type": "stream",
     "text": [
      "Número de sobreviventes e não sobreviventes previstos: {0: 239, 1: 179}\n"
     ]
    }
   ],
   "source": [
    "# Conta os valores únicos e suas respectivas frequências no array de previsões\n",
    "unique, counts = np.unique(predictions, return_counts=True)\n",
    "\n",
    "# Exibe os resultados\n",
    "resultados = dict(zip(unique, counts))\n",
    "print(\"Número de sobreviventes e não sobreviventes previstos:\", resultados)"
   ]
  }
 ],
 "metadata": {
  "kernelspec": {
   "display_name": "Python 3 (ipykernel)",
   "language": "python",
   "name": "python3"
  },
  "language_info": {
   "codemirror_mode": {
    "name": "ipython",
    "version": 3
   },
   "file_extension": ".py",
   "mimetype": "text/x-python",
   "name": "python",
   "nbconvert_exporter": "python",
   "pygments_lexer": "ipython3",
   "version": "3.12.4"
  }
 },
 "nbformat": 4,
 "nbformat_minor": 5
}
